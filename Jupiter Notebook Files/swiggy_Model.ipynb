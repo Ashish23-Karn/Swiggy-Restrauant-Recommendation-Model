{
 "cells": [
  {
   "cell_type": "code",
   "execution_count": 1,
   "id": "203efe3b",
   "metadata": {},
   "outputs": [],
   "source": [
    "import numpy as np\n",
    "import pandas as pd\n",
    "from sklearn.feature_extraction.text import TfidfVectorizer\n",
    "from sklearn.metrics.pairwise import cosine_similarity\n",
    "from sklearn.preprocessing import StandardScaler\n",
    "from sklearn.feature_extraction.text import CountVectorizer\n",
    "from sklearn.preprocessing import MinMaxScaler"
   ]
  },
  {
   "cell_type": "code",
   "execution_count": 22,
   "id": "088361f6",
   "metadata": {},
   "outputs": [],
   "source": [
    "from spellchecker import SpellChecker"
   ]
  },
  {
   "cell_type": "code",
   "execution_count": 28,
   "id": "20903015",
   "metadata": {},
   "outputs": [],
   "source": [
    "df = pd.read_csv('D:/D_DOWNLOADS/swiggy_final.csv')"
   ]
  },
  {
   "cell_type": "code",
   "execution_count": 29,
   "id": "38bd294d",
   "metadata": {},
   "outputs": [
    {
     "data": {
      "text/plain": [
       "Restaurant           0\n",
       "Cuisine              0\n",
       "Price_4_two          0\n",
       "Star_Rating        900\n",
       "Location             0\n",
       "Dish_Price           0\n",
       "consumer_Rating      0\n",
       "Dish_Name            0\n",
       "Dish_Category        0\n",
       "Link                 0\n",
       "dtype: int64"
      ]
     },
     "execution_count": 29,
     "metadata": {},
     "output_type": "execute_result"
    }
   ],
   "source": [
    "df.isnull().sum()"
   ]
  },
  {
   "cell_type": "code",
   "execution_count": 30,
   "id": "e0b780e2",
   "metadata": {},
   "outputs": [],
   "source": [
    "df.dropna(inplace=True)\n"
   ]
  },
  {
   "cell_type": "code",
   "execution_count": 31,
   "id": "37bd8288",
   "metadata": {},
   "outputs": [
    {
     "data": {
      "text/plain": [
       "Restaurant         0\n",
       "Cuisine            0\n",
       "Price_4_two        0\n",
       "Star_Rating        0\n",
       "Location           0\n",
       "Dish_Price         0\n",
       "consumer_Rating    0\n",
       "Dish_Name          0\n",
       "Dish_Category      0\n",
       "Link               0\n",
       "dtype: int64"
      ]
     },
     "execution_count": 31,
     "metadata": {},
     "output_type": "execute_result"
    }
   ],
   "source": [
    "df.isnull().sum()\n"
   ]
  },
  {
   "cell_type": "code",
   "execution_count": 32,
   "id": "2bcd7f1b",
   "metadata": {},
   "outputs": [
    {
     "data": {
      "text/plain": [
       "(5162, 10)"
      ]
     },
     "execution_count": 32,
     "metadata": {},
     "output_type": "execute_result"
    }
   ],
   "source": [
    "df.shape"
   ]
  },
  {
   "cell_type": "code",
   "execution_count": 33,
   "id": "917a7595",
   "metadata": {},
   "outputs": [],
   "source": [
    "df['price_for_two'] = df['Price_4_two'].copy()"
   ]
  },
  {
   "cell_type": "code",
   "execution_count": 35,
   "id": "8be18371",
   "metadata": {},
   "outputs": [],
   "source": [
    "# Extract features\n",
    "\n",
    "\n",
    "price_scaler = MinMaxScaler()\n",
    "price_features = price_scaler.fit_transform(df['Price_4_two'].values.reshape(-1, 1))"
   ]
  },
  {
   "cell_type": "code",
   "execution_count": 38,
   "id": "d7038d6f",
   "metadata": {
    "collapsed": true
   },
   "outputs": [
    {
     "data": {
      "text/plain": [
       "array([[0.39849624],\n",
       "       [0.39849624],\n",
       "       [0.39849624],\n",
       "       ...,\n",
       "       [0.12280702],\n",
       "       [0.12280702],\n",
       "       [0.12280702]])"
      ]
     },
     "execution_count": 38,
     "metadata": {},
     "output_type": "execute_result"
    }
   ],
   "source": [
    "price_features"
   ]
  },
  {
   "cell_type": "code",
   "execution_count": 43,
   "id": "d1f18217",
   "metadata": {},
   "outputs": [
    {
     "data": {
      "text/plain": [
       "0         Indiranagar\n",
       "1         Indiranagar\n",
       "2         Indiranagar\n",
       "3         Indiranagar\n",
       "4           Jayanagar\n",
       "            ...      \n",
       "6057     Basavanagudi\n",
       "6058     Basavanagudi\n",
       "6059     Banashankari\n",
       "6060     Banashankari\n",
       "6061    St Marks Road\n",
       "Name: Location, Length: 5162, dtype: object"
      ]
     },
     "execution_count": 43,
     "metadata": {},
     "output_type": "execute_result"
    }
   ],
   "source": [
    "df['Location']"
   ]
  },
  {
   "cell_type": "code",
   "execution_count": 45,
   "id": "259ecc52",
   "metadata": {},
   "outputs": [
    {
     "data": {
      "text/html": [
       "<div>\n",
       "<style scoped>\n",
       "    .dataframe tbody tr th:only-of-type {\n",
       "        vertical-align: middle;\n",
       "    }\n",
       "\n",
       "    .dataframe tbody tr th {\n",
       "        vertical-align: top;\n",
       "    }\n",
       "\n",
       "    .dataframe thead th {\n",
       "        text-align: right;\n",
       "    }\n",
       "</style>\n",
       "<table border=\"1\" class=\"dataframe\">\n",
       "  <thead>\n",
       "    <tr style=\"text-align: right;\">\n",
       "      <th></th>\n",
       "      <th>Restaurant</th>\n",
       "      <th>Cuisine</th>\n",
       "      <th>Price_4_two</th>\n",
       "      <th>Star_Rating</th>\n",
       "      <th>Location</th>\n",
       "      <th>Dish_Price</th>\n",
       "      <th>consumer_Rating</th>\n",
       "      <th>Dish_Name</th>\n",
       "      <th>Dish_Category</th>\n",
       "      <th>Link</th>\n",
       "      <th>price_for_two</th>\n",
       "    </tr>\n",
       "  </thead>\n",
       "  <tbody>\n",
       "    <tr>\n",
       "      <th>0</th>\n",
       "      <td>1522 - The Pub</td>\n",
       "      <td>Chinese</td>\n",
       "      <td>800</td>\n",
       "      <td>4.4</td>\n",
       "      <td>Indiranagar</td>\n",
       "      <td>370.0</td>\n",
       "      <td>1000</td>\n",
       "      <td>Black Ginger Tea 300ml</td>\n",
       "      <td>Unknown</td>\n",
       "      <td>https://www.swiggy.com/restaurants/1522-the-pu...</td>\n",
       "      <td>800</td>\n",
       "    </tr>\n",
       "    <tr>\n",
       "      <th>1</th>\n",
       "      <td>1522 - The Pub</td>\n",
       "      <td>North Indian</td>\n",
       "      <td>800</td>\n",
       "      <td>4.4</td>\n",
       "      <td>Indiranagar</td>\n",
       "      <td>370.0</td>\n",
       "      <td>1000</td>\n",
       "      <td>Black Ginger Tea 300ml</td>\n",
       "      <td>Unknown</td>\n",
       "      <td>https://www.swiggy.com/restaurants/1522-the-pu...</td>\n",
       "      <td>800</td>\n",
       "    </tr>\n",
       "    <tr>\n",
       "      <th>2</th>\n",
       "      <td>1522 - The Pub</td>\n",
       "      <td>Continental</td>\n",
       "      <td>800</td>\n",
       "      <td>4.4</td>\n",
       "      <td>Indiranagar</td>\n",
       "      <td>370.0</td>\n",
       "      <td>1000</td>\n",
       "      <td>Black Ginger Tea 300ml</td>\n",
       "      <td>Unknown</td>\n",
       "      <td>https://www.swiggy.com/restaurants/1522-the-pu...</td>\n",
       "      <td>800</td>\n",
       "    </tr>\n",
       "    <tr>\n",
       "      <th>3</th>\n",
       "      <td>1522 - The Pub</td>\n",
       "      <td>Seafood</td>\n",
       "      <td>800</td>\n",
       "      <td>4.4</td>\n",
       "      <td>Indiranagar</td>\n",
       "      <td>370.0</td>\n",
       "      <td>1000</td>\n",
       "      <td>Black Ginger Tea 300ml</td>\n",
       "      <td>Unknown</td>\n",
       "      <td>https://www.swiggy.com/restaurants/1522-the-pu...</td>\n",
       "      <td>800</td>\n",
       "    </tr>\n",
       "    <tr>\n",
       "      <th>4</th>\n",
       "      <td>1522 - The Pub</td>\n",
       "      <td>Chinese</td>\n",
       "      <td>800</td>\n",
       "      <td>4.4</td>\n",
       "      <td>Jayanagar</td>\n",
       "      <td>218.0</td>\n",
       "      <td>20</td>\n",
       "      <td>Chicken Biryani R   (portion Size : 900 Grams ...</td>\n",
       "      <td>Recommended (14)</td>\n",
       "      <td>https://www.swiggy.com/restaurants/1522-the-pu...</td>\n",
       "      <td>800</td>\n",
       "    </tr>\n",
       "    <tr>\n",
       "      <th>...</th>\n",
       "      <td>...</td>\n",
       "      <td>...</td>\n",
       "      <td>...</td>\n",
       "      <td>...</td>\n",
       "      <td>...</td>\n",
       "      <td>...</td>\n",
       "      <td>...</td>\n",
       "      <td>...</td>\n",
       "      <td>...</td>\n",
       "      <td>...</td>\n",
       "      <td>...</td>\n",
       "    </tr>\n",
       "    <tr>\n",
       "      <th>6057</th>\n",
       "      <td>limelight-Royal Orchid Hotel</td>\n",
       "      <td>North Indian</td>\n",
       "      <td>250</td>\n",
       "      <td>4.0</td>\n",
       "      <td>Basavanagudi</td>\n",
       "      <td>129.0</td>\n",
       "      <td>1000</td>\n",
       "      <td>Chicken Sour &amp; Pepper Wonton Soup [500 Ml]</td>\n",
       "      <td>Unknown</td>\n",
       "      <td>https://www.swiggy.com/restaurants/limelight-r...</td>\n",
       "      <td>250</td>\n",
       "    </tr>\n",
       "    <tr>\n",
       "      <th>6058</th>\n",
       "      <td>limelight-Royal Orchid Hotel</td>\n",
       "      <td>Indian</td>\n",
       "      <td>250</td>\n",
       "      <td>4.0</td>\n",
       "      <td>Basavanagudi</td>\n",
       "      <td>129.0</td>\n",
       "      <td>1000</td>\n",
       "      <td>Chicken Sour &amp; Pepper Wonton Soup [500 Ml]</td>\n",
       "      <td>Unknown</td>\n",
       "      <td>https://www.swiggy.com/restaurants/limelight-r...</td>\n",
       "      <td>250</td>\n",
       "    </tr>\n",
       "    <tr>\n",
       "      <th>6059</th>\n",
       "      <td>limelight-Royal Orchid Hotel</td>\n",
       "      <td>North Indian</td>\n",
       "      <td>250</td>\n",
       "      <td>4.0</td>\n",
       "      <td>Banashankari</td>\n",
       "      <td>99.0</td>\n",
       "      <td>1000</td>\n",
       "      <td>Bombay Veg Chutney Sandwich</td>\n",
       "      <td>Recommended (29)</td>\n",
       "      <td>https://www.swiggy.com/restaurants/limelight-r...</td>\n",
       "      <td>250</td>\n",
       "    </tr>\n",
       "    <tr>\n",
       "      <th>6060</th>\n",
       "      <td>limelight-Royal Orchid Hotel</td>\n",
       "      <td>Indian</td>\n",
       "      <td>250</td>\n",
       "      <td>4.0</td>\n",
       "      <td>Banashankari</td>\n",
       "      <td>99.0</td>\n",
       "      <td>1000</td>\n",
       "      <td>Bombay Veg Chutney Sandwich</td>\n",
       "      <td>Recommended (29)</td>\n",
       "      <td>https://www.swiggy.com/restaurants/limelight-r...</td>\n",
       "      <td>250</td>\n",
       "    </tr>\n",
       "    <tr>\n",
       "      <th>6061</th>\n",
       "      <td>london dairy</td>\n",
       "      <td>Ice Cream</td>\n",
       "      <td>250</td>\n",
       "      <td>4.3</td>\n",
       "      <td>St Marks Road</td>\n",
       "      <td>170.0</td>\n",
       "      <td>5000</td>\n",
       "      <td>Chicken Wanton Soup</td>\n",
       "      <td>Unknown</td>\n",
       "      <td>https://www.swiggy.com/restaurants/london-dair...</td>\n",
       "      <td>250</td>\n",
       "    </tr>\n",
       "  </tbody>\n",
       "</table>\n",
       "<p>5162 rows × 11 columns</p>\n",
       "</div>"
      ],
      "text/plain": [
       "                        Restaurant        Cuisine  Price_4_two  Star_Rating  \\\n",
       "0                   1522 - The Pub        Chinese          800          4.4   \n",
       "1                   1522 - The Pub   North Indian          800          4.4   \n",
       "2                   1522 - The Pub    Continental          800          4.4   \n",
       "3                   1522 - The Pub        Seafood          800          4.4   \n",
       "4                   1522 - The Pub        Chinese          800          4.4   \n",
       "...                            ...            ...          ...          ...   \n",
       "6057  limelight-Royal Orchid Hotel   North Indian          250          4.0   \n",
       "6058  limelight-Royal Orchid Hotel         Indian          250          4.0   \n",
       "6059  limelight-Royal Orchid Hotel   North Indian          250          4.0   \n",
       "6060  limelight-Royal Orchid Hotel         Indian          250          4.0   \n",
       "6061                  london dairy      Ice Cream          250          4.3   \n",
       "\n",
       "           Location  Dish_Price  consumer_Rating  \\\n",
       "0       Indiranagar       370.0             1000   \n",
       "1       Indiranagar       370.0             1000   \n",
       "2       Indiranagar       370.0             1000   \n",
       "3       Indiranagar       370.0             1000   \n",
       "4         Jayanagar       218.0               20   \n",
       "...             ...         ...              ...   \n",
       "6057   Basavanagudi       129.0             1000   \n",
       "6058   Basavanagudi       129.0             1000   \n",
       "6059   Banashankari        99.0             1000   \n",
       "6060   Banashankari        99.0             1000   \n",
       "6061  St Marks Road       170.0             5000   \n",
       "\n",
       "                                              Dish_Name     Dish_Category  \\\n",
       "0                                Black Ginger Tea 300ml           Unknown   \n",
       "1                                Black Ginger Tea 300ml           Unknown   \n",
       "2                                Black Ginger Tea 300ml           Unknown   \n",
       "3                                Black Ginger Tea 300ml           Unknown   \n",
       "4     Chicken Biryani R   (portion Size : 900 Grams ...  Recommended (14)   \n",
       "...                                                 ...               ...   \n",
       "6057         Chicken Sour & Pepper Wonton Soup [500 Ml]           Unknown   \n",
       "6058         Chicken Sour & Pepper Wonton Soup [500 Ml]           Unknown   \n",
       "6059                        Bombay Veg Chutney Sandwich  Recommended (29)   \n",
       "6060                        Bombay Veg Chutney Sandwich  Recommended (29)   \n",
       "6061                                Chicken Wanton Soup           Unknown   \n",
       "\n",
       "                                                   Link  price_for_two  \n",
       "0     https://www.swiggy.com/restaurants/1522-the-pu...            800  \n",
       "1     https://www.swiggy.com/restaurants/1522-the-pu...            800  \n",
       "2     https://www.swiggy.com/restaurants/1522-the-pu...            800  \n",
       "3     https://www.swiggy.com/restaurants/1522-the-pu...            800  \n",
       "4     https://www.swiggy.com/restaurants/1522-the-pu...            800  \n",
       "...                                                 ...            ...  \n",
       "6057  https://www.swiggy.com/restaurants/limelight-r...            250  \n",
       "6058  https://www.swiggy.com/restaurants/limelight-r...            250  \n",
       "6059  https://www.swiggy.com/restaurants/limelight-r...            250  \n",
       "6060  https://www.swiggy.com/restaurants/limelight-r...            250  \n",
       "6061  https://www.swiggy.com/restaurants/london-dair...            250  \n",
       "\n",
       "[5162 rows x 11 columns]"
      ]
     },
     "execution_count": 45,
     "metadata": {},
     "output_type": "execute_result"
    }
   ],
   "source": [
    "df"
   ]
  },
  {
   "cell_type": "code",
   "execution_count": 46,
   "id": "249c4cf4",
   "metadata": {},
   "outputs": [
    {
     "name": "stdout",
     "output_type": "stream",
     "text": [
      "Enter your location: Indiranagar\n",
      "Average price for one person in Indiranagar: Rs. 403\n"
     ]
    }
   ],
   "source": [
    "user_location = input('Enter your location: ')\n",
    "\n",
    "\n",
    "# Find average price for one person in the given location\n",
    "average_price = df[df['Location'] == user_location]['price_for_two'].mean()\n",
    "\n",
    "# Display average price for one person in the given location\n",
    "print(f'Average price for one person in {user_location}: Rs. {average_price:.0f}')"
   ]
  },
  {
   "cell_type": "code",
   "execution_count": 21,
   "id": "3886b3c5",
   "metadata": {},
   "outputs": [
    {
     "data": {
      "text/plain": [
       "(5162, 1)"
      ]
     },
     "execution_count": 21,
     "metadata": {},
     "output_type": "execute_result"
    }
   ],
   "source": [
    "price_features.shape"
   ]
  },
  {
   "cell_type": "code",
   "execution_count": 25,
   "id": "f958546b",
   "metadata": {},
   "outputs": [],
   "source": [
    "# Extract features\n",
    "\n",
    "\n",
    "# Create a TF-IDF vectorizer for cuisine\n",
    "cuisine_vectorizer = TfidfVectorizer(stop_words='english')\n",
    "cuisine_features = cuisine_vectorizer.fit_transform(df['Cuisine'])\n",
    "\n",
    "# Scale the price values\n",
    "price_scaler = StandardScaler()\n",
    "df['Price_4_two'] = price_scaler.fit_transform(df['Price_4_two'].values.reshape(-1, 1))"
   ]
  },
  {
   "cell_type": "code",
   "execution_count": 49,
   "id": "d173be36",
   "metadata": {},
   "outputs": [
    {
     "name": "stdout",
     "output_type": "stream",
     "text": [
      "Enter your preferred cuisine: italian\n",
      "Your cuisine preference is correctly spelled.\n",
      "Enter your location: Indiranagar\n",
      "Enter your preferred price for two person: 300\n",
      "Popular cuisine in Indiranagar:  Desserts\n",
      "Average price for two person in Indiranagar: Rs. 403\n",
      "Most popular restaurant in Indiranagar: \"Desi Chulha\" with  Desserts cuisine\n",
      "Most popular restaurant in Indiranagar with italian cuisine: \"Aubree\"\n",
      "Recommended Restaurants:\n",
      "Trippy Goat Cafe & Wine (Score: 1.75)\n",
      "Trippy Goat Cafe & Wine (Score: 1.75)\n",
      "Chianti (Score: 1.62)\n",
      "Chianti (Score: 1.62)\n",
      "Little Italy (Score: 1.60)\n",
      "Suggested price for two person: Rs. 330\n"
     ]
    }
   ],
   "source": [
    "# Define user preferences\n",
    "user_cuisine = input('Enter your preferred cuisine: ')\n",
    "spell = SpellChecker()\n",
    "misspelled_words_c = spell.unknown(user_cuisine.split())\n",
    "if misspelled_words_c:\n",
    "    print(f\"Did you mean: {spell.correction(user_cuisine)}?\")\n",
    "else:\n",
    "    print(\"Your cuisine preference is correctly spelled.\")\n",
    "\n",
    "    \n",
    "user_location = input('Enter your location: ')\n",
    "user_price = float(input('Enter your preferred price for two person: '))\n",
    "\n",
    "# Find popular cuisine in the given location\n",
    "popular_cuisine = df[df['Location'] == user_location]['Cuisine'].value_counts().index[0]\n",
    "\n",
    "# Display popular cuisine in the given location\n",
    "print(f'Popular cuisine in {user_location}: {popular_cuisine}')\n",
    "\n",
    "# Find average price for two person in the given location\n",
    "average_price = df[df['Location'] == user_location]['price_for_two'].mean()\n",
    "\n",
    "# Display average price for two person in the given location\n",
    "print(f'Average price for two person in {user_location}: Rs. {average_price:.0f}')\n",
    "\n",
    "# Find the most popular restaurant in the given location\n",
    "most_popular_restaurant = df[df['Location'] == user_location]['Restaurant'].value_counts().index[0]\n",
    "\n",
    "# Display the most popular restaurant in the given location\n",
    "print(f'Most popular restaurant in {user_location}: \"{most_popular_restaurant}\" with {popular_cuisine} cuisine')\n",
    "\n",
    "# Find the most popular restaurant in the given location with the preferred cuisine\n",
    "most_popular_cuisine_restaurant = df[(df['Location'] == user_location) & (df['Cuisine'].str.contains(user_cuisine, case=False))]['Restaurant'].value_counts().index[0]\n",
    "\n",
    "# Display the most popular restaurant in the given location with the preferred cuisine\n",
    "print(f'Most popular restaurant in {user_location} with {user_cuisine} cuisine: \"{most_popular_cuisine_restaurant}\"')\n",
    "\n",
    "# Find similar restaurants\n",
    "similar_restaurants =[]\n",
    "for idx in range(cuisine_features.shape[0]):\n",
    "    restaurant = df.iloc[idx]\n",
    "    if user_cuisine.lower() in restaurant['Cuisine'].lower():\n",
    "        score = cosine_similarity(cuisine_features[idx], cuisine_vectorizer.transform([user_cuisine]))[0][0] + price_scaler.transform([[restaurant['Price_4_two']]])[0][0]\n",
    "        similar_restaurants.append((restaurant['Restaurant'], score))\n",
    "\n",
    "        \n",
    "\n",
    "# Sort the restaurants by similarity score\n",
    "similar_restaurants = sorted(similar_restaurants, key=lambda x: x[1], reverse=True)\n",
    "\n",
    "# Display recommended restaurants\n",
    "print('Recommended Restaurants:')\n",
    "for restaurant, score in similar_restaurants[:5]:\n",
    "    print(f'{restaurant} (Score: {score:.2f})')\n",
    "\n",
    "# Suggest a price\n",
    "if user_price < average_price:\n",
    "    suggested_price = round(user_price * 1.1)\n",
    "else:\n",
    "    suggested_price = round(average_price)\n",
    "print(f'Suggested price for two person: Rs. {suggested_price}') "
   ]
  }
 ],
 "metadata": {
  "kernelspec": {
   "display_name": "Python 3 (ipykernel)",
   "language": "python",
   "name": "python3"
  },
  "language_info": {
   "codemirror_mode": {
    "name": "ipython",
    "version": 3
   },
   "file_extension": ".py",
   "mimetype": "text/x-python",
   "name": "python",
   "nbconvert_exporter": "python",
   "pygments_lexer": "ipython3",
   "version": "3.11.3"
  }
 },
 "nbformat": 4,
 "nbformat_minor": 5
}
